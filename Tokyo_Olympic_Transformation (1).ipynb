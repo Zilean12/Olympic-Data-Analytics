{
  "cells": [
    {
      "cell_type": "code",
      "execution_count": null,
      "metadata": {
        "application/vnd.databricks.v1+cell": {
          "cellMetadata": {
            "byteLimit": 2048000,
            "rowLimit": 10000
          },
          "inputWidgets": {},
          "nuid": "dd000006-762c-4c93-8026-56c31d4e2070",
          "showTitle": false,
          "title": ""
        },
        "id": "hdgszMK3TD4t",
        "outputId": "f4040213-ab87-47c9-cf3f-35fde9376ff5"
      },
      "outputs": [
        {
          "output_type": "stream",
          "name": "stdout",
          "text": [
            "Out[3]: True"
          ]
        }
      ],
      "source": [
        "\n",
        "configs = {\"fs.azure.account.auth.type\": \"OAuth\",\n",
        "\"fs.azure.account.oauth.provider.type\": \"org.apache.hadoop.fs.azurebfs.oauth2.ClientCredsTokenProvider\",\n",
        "\"fs.azure.account.oauth2.client.id\": \"client ID\",\n",
        "\"fs.azure.account.oauth2.client.secret\": 'secret Key',\n",
        "\"fs.azure.account.oauth2.client.endpoint\": \"https://login.microsoftonline.com/\"Directory (tenant) ID\"/oauth2/token\"}\n",
        "\n",
        "\n",
        "dbutils.fs.mount(\n",
        "source = \"abfss://tokyo-olympic-data@olympicdata2021.dfs.core.windows.net\",\n",
        "mount_point = \"/mnt/tokyoolymic\",\n",
        "extra_configs = configs)"
      ]
    },
    {
      "cell_type": "code",
      "execution_count": null,
      "metadata": {
        "application/vnd.databricks.v1+cell": {
          "cellMetadata": {
            "byteLimit": 2048000,
            "rowLimit": 10000
          },
          "inputWidgets": {},
          "nuid": "fb32afbc-1d3c-4989-af4d-7ff61a35ea61",
          "showTitle": false,
          "title": ""
        },
        "id": "6036yN1nTD4v",
        "outputId": "e52d379a-eb51-4bce-b0c7-8c37e093e82d"
      },
      "outputs": [
        {
          "output_type": "display_data",
          "data": {
            "text/html": [
              "<style scoped>\n",
              "  .table-result-container {\n",
              "    max-height: 300px;\n",
              "    overflow: auto;\n",
              "  }\n",
              "  table, th, td {\n",
              "    border: 1px solid black;\n",
              "    border-collapse: collapse;\n",
              "  }\n",
              "  th, td {\n",
              "    padding: 5px;\n",
              "  }\n",
              "  th {\n",
              "    text-align: left;\n",
              "  }\n",
              "</style><div class='table-result-container'><table class='table-result'><thead style='background-color: white'><tr><th>path</th><th>name</th><th>size</th><th>modificationTime</th></tr></thead><tbody><tr><td>dbfs:/mnt/tokyoolymic/raw-data/</td><td>raw-data/</td><td>0</td><td>1720676677000</td></tr><tr><td>dbfs:/mnt/tokyoolymic/transformed-data/</td><td>transformed-data/</td><td>0</td><td>1720676716000</td></tr></tbody></table></div>"
            ]
          },
          "metadata": {
            "application/vnd.databricks.v1+output": {
              "addedWidgets": {},
              "aggData": [],
              "aggError": "",
              "aggOverflow": false,
              "aggSchema": [],
              "aggSeriesLimitReached": false,
              "aggType": "",
              "arguments": {},
              "columnCustomDisplayInfos": {},
              "data": [
                [
                  "dbfs:/mnt/tokyoolymic/raw-data/",
                  "raw-data/",
                  0,
                  1720676677000
                ],
                [
                  "dbfs:/mnt/tokyoolymic/transformed-data/",
                  "transformed-data/",
                  0,
                  1720676716000
                ]
              ],
              "datasetInfos": [],
              "dbfsResultPath": null,
              "isJsonSchema": true,
              "metadata": {
                "isDbfsCommandResult": false
              },
              "overflow": false,
              "plotOptions": {
                "customPlotOptions": {},
                "displayType": "table",
                "pivotAggregation": null,
                "pivotColumns": null,
                "xColumns": null,
                "yColumns": null
              },
              "removedWidgets": [],
              "schema": [
                {
                  "metadata": "{}",
                  "name": "path",
                  "type": "\"string\""
                },
                {
                  "metadata": "{}",
                  "name": "name",
                  "type": "\"string\""
                },
                {
                  "metadata": "{}",
                  "name": "size",
                  "type": "\"long\""
                },
                {
                  "metadata": "{}",
                  "name": "modificationTime",
                  "type": "\"long\""
                }
              ],
              "type": "table"
            }
          }
        }
      ],
      "source": [
        "\n",
        "%fs\n",
        "ls \"/mnt/tokyoolymic\""
      ]
    },
    {
      "cell_type": "code",
      "execution_count": null,
      "metadata": {
        "application/vnd.databricks.v1+cell": {
          "cellMetadata": {
            "byteLimit": 2048000,
            "rowLimit": 10000
          },
          "inputWidgets": {},
          "nuid": "beeaecb6-ce69-434d-9b83-2af0087b379f",
          "showTitle": false,
          "title": ""
        },
        "id": "_eE0dLKhTD4w",
        "outputId": "d500d45d-6ef7-4dda-d490-257e3fb6c3ab"
      },
      "outputs": [
        {
          "output_type": "display_data",
          "data": {
            "text/html": [
              "\n",
              "            <div>\n",
              "                <p><b>SparkSession - hive</b></p>\n",
              "                \n",
              "        <div>\n",
              "            <p><b>SparkContext</b></p>\n",
              "\n",
              "            <p><a href=\"/?o=1957958311981479#setting/sparkui/0711-125517-94tuz6fy/driver-4327380840051934333\">Spark UI</a></p>\n",
              "\n",
              "            <dl>\n",
              "              <dt>Version</dt>\n",
              "                <dd><code>v3.3.2</code></dd>\n",
              "              <dt>Master</dt>\n",
              "                <dd><code>local[*, 4]</code></dd>\n",
              "              <dt>AppName</dt>\n",
              "                <dd><code>Databricks Shell</code></dd>\n",
              "            </dl>\n",
              "        </div>\n",
              "        \n",
              "            </div>\n",
              "        "
            ]
          },
          "metadata": {
            "application/vnd.databricks.v1+output": {
              "addedWidgets": {},
              "arguments": {},
              "data": "\n            <div>\n                <p><b>SparkSession - hive</b></p>\n                \n        <div>\n            <p><b>SparkContext</b></p>\n\n            <p><a href=\"/?o=1957958311981479#setting/sparkui/0711-125517-94tuz6fy/driver-4327380840051934333\">Spark UI</a></p>\n\n            <dl>\n              <dt>Version</dt>\n                <dd><code>v3.3.2</code></dd>\n              <dt>Master</dt>\n                <dd><code>local[*, 4]</code></dd>\n              <dt>AppName</dt>\n                <dd><code>Databricks Shell</code></dd>\n            </dl>\n        </div>\n        \n            </div>\n        ",
              "datasetInfos": [],
              "metadata": {},
              "removedWidgets": [],
              "textData": null,
              "type": "htmlSandbox"
            }
          }
        }
      ],
      "source": [
        "spark\n"
      ]
    },
    {
      "cell_type": "code",
      "execution_count": null,
      "metadata": {
        "application/vnd.databricks.v1+cell": {
          "cellMetadata": {
            "byteLimit": 2048000,
            "rowLimit": 10000
          },
          "inputWidgets": {},
          "nuid": "a92224ee-8527-482b-8b29-91687fb69828",
          "showTitle": false,
          "title": ""
        },
        "id": "HcfdQKepTD4w"
      },
      "outputs": [],
      "source": [
        "athletes = spark.read.format(\"csv\").option(\"header\",\"true\").option(\"inferSchema\",\"true\").load(\"/mnt/tokyoolymic/raw-data/athletes.csv\")\n",
        "coaches = spark.read.format(\"csv\").option(\"header\",\"true\").option(\"inferSchema\",\"true\").load(\"/mnt/tokyoolymic/raw-data/coaches.csv\")\n",
        "entriesgender = spark.read.format(\"csv\").option(\"header\",\"true\").option(\"inferSchema\",\"true\").load(\"/mnt/tokyoolymic/raw-data/entriesgender.csv\")\n",
        "medals = spark.read.format(\"csv\").option(\"header\",\"true\").option(\"inferSchema\",\"true\").load(\"/mnt/tokyoolymic/raw-data/medals.csv\")\n",
        "teams = spark.read.format(\"csv\").option(\"header\",\"true\").option(\"inferSchema\",\"true\").load(\"/mnt/tokyoolymic/raw-data/teams.csv\")\n",
        ""
      ]
    },
    {
      "cell_type": "code",
      "execution_count": null,
      "metadata": {
        "application/vnd.databricks.v1+cell": {
          "cellMetadata": {
            "byteLimit": 2048000,
            "rowLimit": 10000
          },
          "inputWidgets": {},
          "nuid": "ae45e45a-60b3-419c-b885-9e15e0a1b519",
          "showTitle": false,
          "title": ""
        },
        "id": "-yOKXloaTD4w",
        "outputId": "2eb6b0de-550b-4786-b147-277f9f973fd4"
      },
      "outputs": [
        {
          "output_type": "stream",
          "name": "stdout",
          "text": [
            "+--------------------+--------------------+-------------------+\n|          PersonName|             Country|         Discipline|\n+--------------------+--------------------+-------------------+\n|     AALERUD Katrine|              Norway|       Cycling Road|\n|         ABAD Nestor|               Spain|Artistic Gymnastics|\n|   ABAGNALE Giovanni|               Italy|             Rowing|\n|      ABALDE Alberto|               Spain|         Basketball|\n|       ABALDE Tamara|               Spain|         Basketball|\n|           ABALO Luc|              France|           Handball|\n|        ABAROA Cesar|               Chile|             Rowing|\n|       ABASS Abobakr|               Sudan|           Swimming|\n|    ABBASALI Hamideh|Islamic Republic ...|             Karate|\n|       ABBASOV Islam|          Azerbaijan|          Wrestling|\n|        ABBINGH Lois|         Netherlands|           Handball|\n|         ABBOT Emily|           Australia|Rhythmic Gymnastics|\n|       ABBOTT Monica|United States of ...|  Baseball/Softball|\n|ABDALLA Abubaker ...|               Qatar|          Athletics|\n|      ABDALLA Maryam|               Egypt|  Artistic Swimming|\n|      ABDALLAH Shahd|               Egypt|  Artistic Swimming|\n| ABDALRASOOL Mohamed|               Sudan|               Judo|\n|   ABDEL LATIF Radwa|               Egypt|           Shooting|\n|    ABDEL RAZEK Samy|               Egypt|           Shooting|\n|   ABDELAZIZ Abdalla|               Egypt|             Karate|\n+--------------------+--------------------+-------------------+\nonly showing top 20 rows\n\n"
          ]
        }
      ],
      "source": [
        "athletes.show()\n"
      ]
    },
    {
      "cell_type": "code",
      "execution_count": null,
      "metadata": {
        "application/vnd.databricks.v1+cell": {
          "cellMetadata": {
            "byteLimit": 2048000,
            "rowLimit": 10000
          },
          "inputWidgets": {},
          "nuid": "803a7fe5-cc5e-40a5-aba9-9ced5e06ccbf",
          "showTitle": false,
          "title": ""
        },
        "id": "cLJNMc49TD4x",
        "outputId": "5e085129-0520-4ca0-9e76-5aa88a6d4732"
      },
      "outputs": [
        {
          "output_type": "stream",
          "name": "stdout",
          "text": [
            "root\n |-- PersonName: string (nullable = true)\n |-- Country: string (nullable = true)\n |-- Discipline: string (nullable = true)\n\n"
          ]
        }
      ],
      "source": [
        "athletes.printSchema()"
      ]
    },
    {
      "cell_type": "code",
      "execution_count": null,
      "metadata": {
        "application/vnd.databricks.v1+cell": {
          "cellMetadata": {
            "byteLimit": 2048000,
            "rowLimit": 10000
          },
          "inputWidgets": {},
          "nuid": "4d3d34ec-4c5a-454a-927d-c968d590d199",
          "showTitle": false,
          "title": ""
        },
        "id": "sO1UDKqjTD4x",
        "outputId": "b821adc9-d090-4392-92b3-70b5acb993ff"
      },
      "outputs": [
        {
          "output_type": "stream",
          "name": "stdout",
          "text": [
            "+--------------------+--------------------+-----------------+--------+\n|                Name|             Country|       Discipline|   Event|\n+--------------------+--------------------+-----------------+--------+\n|     ABDELMAGID Wael|               Egypt|         Football|    null|\n|           ABE Junya|               Japan|       Volleyball|    null|\n|       ABE Katsuhiko|               Japan|       Basketball|    null|\n|        ADAMA Cherif|       C�te d'Ivoire|         Football|    null|\n|          AGEBA Yuya|               Japan|       Volleyball|    null|\n|AIKMAN Siegfried ...|               Japan|           Hockey|     Men|\n|       AL SAADI Kais|             Germany|           Hockey|     Men|\n|       ALAMEDA Lonni|              Canada|Baseball/Softball|Softball|\n|     ALEKNO Vladimir|Islamic Republic ...|       Volleyball|     Men|\n|     ALEKSEEV Alexey|                 ROC|         Handball|   Women|\n|ALLER CARBALLO Ma...|               Spain|       Basketball|    null|\n|       ALSHEHRI Saad|        Saudi Arabia|         Football|     Men|\n|           ALY Kamal|               Egypt|         Football|    null|\n| AMAYA GAITAN Fabian|         Puerto Rico|       Basketball|    null|\n|    AMO AGUADO Pablo|               Spain|         Football|    null|\n|   ANDONOVSKI Vlatko|United States of ...|         Football|   Women|\n|        ANNAN Alyson|         Netherlands|           Hockey|   Women|\n|  ARNAU CREUS Xavier|               Japan|           Hockey|   Women|\n|       ARNOLD Graham|           Australia|         Football|     Men|\n|         AXNER Tomas|              Sweden|         Handball|   Women|\n+--------------------+--------------------+-----------------+--------+\nonly showing top 20 rows\n\n"
          ]
        }
      ],
      "source": [
        "coaches.show()\n"
      ]
    },
    {
      "cell_type": "code",
      "execution_count": null,
      "metadata": {
        "application/vnd.databricks.v1+cell": {
          "cellMetadata": {
            "byteLimit": 2048000,
            "rowLimit": 10000
          },
          "inputWidgets": {},
          "nuid": "79f86f33-fed9-49f1-a473-2875889537f4",
          "showTitle": false,
          "title": ""
        },
        "id": "FmSBaLK_TD4y",
        "outputId": "8ed98b8a-d59b-4665-bf55-83ca1e7ad620"
      },
      "outputs": [
        {
          "output_type": "stream",
          "name": "stdout",
          "text": [
            "root\n |-- Name: string (nullable = true)\n |-- Country: string (nullable = true)\n |-- Discipline: string (nullable = true)\n |-- Event: string (nullable = true)\n\n"
          ]
        }
      ],
      "source": [
        "coaches.printSchema()\n"
      ]
    },
    {
      "cell_type": "code",
      "execution_count": null,
      "metadata": {
        "application/vnd.databricks.v1+cell": {
          "cellMetadata": {
            "byteLimit": 2048000,
            "rowLimit": 10000
          },
          "inputWidgets": {},
          "nuid": "d5b4a37e-74b8-4245-8737-7348b37e4e58",
          "showTitle": false,
          "title": ""
        },
        "id": "0tXtdRwMTD4y",
        "outputId": "f9768c2b-0a59-4f1d-eadc-872838e8fb28"
      },
      "outputs": [
        {
          "output_type": "stream",
          "name": "stdout",
          "text": [
            "+--------------------+------+----+-----+\n|          Discipline|Female|Male|Total|\n+--------------------+------+----+-----+\n|      3x3 Basketball|    32|  32|   64|\n|             Archery|    64|  64|  128|\n| Artistic Gymnastics|    98|  98|  196|\n|   Artistic Swimming|   105|   0|  105|\n|           Athletics|   969|1072| 2041|\n|           Badminton|    86|  87|  173|\n|   Baseball/Softball|    90| 144|  234|\n|          Basketball|   144| 144|  288|\n|    Beach Volleyball|    48|  48|   96|\n|              Boxing|   102| 187|  289|\n|        Canoe Slalom|    41|  41|   82|\n|        Canoe Sprint|   123| 126|  249|\n|Cycling BMX Frees...|    10|   9|   19|\n|  Cycling BMX Racing|    24|  24|   48|\n|Cycling Mountain ...|    38|  38|   76|\n|        Cycling Road|    70| 131|  201|\n|       Cycling Track|    90|  99|  189|\n|              Diving|    72|  71|  143|\n|          Equestrian|    73| 125|  198|\n|             Fencing|   107| 108|  215|\n+--------------------+------+----+-----+\nonly showing top 20 rows\n\n"
          ]
        }
      ],
      "source": [
        "entriesgender.show()\n"
      ]
    },
    {
      "cell_type": "code",
      "execution_count": null,
      "metadata": {
        "application/vnd.databricks.v1+cell": {
          "cellMetadata": {
            "byteLimit": 2048000,
            "rowLimit": 10000
          },
          "inputWidgets": {},
          "nuid": "1192445c-f926-4a9d-9302-3f621fc83b1c",
          "showTitle": false,
          "title": ""
        },
        "id": "h6Hr1exGTD4z",
        "outputId": "cff47b69-957e-4f6d-b086-5cb90d2de822"
      },
      "outputs": [
        {
          "output_type": "stream",
          "name": "stdout",
          "text": [
            "root\n |-- Discipline: string (nullable = true)\n |-- Female: integer (nullable = true)\n |-- Male: integer (nullable = true)\n |-- Total: integer (nullable = true)\n\n"
          ]
        }
      ],
      "source": [
        "entriesgender.printSchema()\n"
      ]
    },
    {
      "cell_type": "code",
      "execution_count": null,
      "metadata": {
        "application/vnd.databricks.v1+cell": {
          "cellMetadata": {
            "byteLimit": 2048000,
            "rowLimit": 10000
          },
          "inputWidgets": {},
          "nuid": "8c7ef984-a5b0-4b36-a666-beafb9245be4",
          "showTitle": false,
          "title": ""
        },
        "id": "oqkTixakTD4z"
      },
      "outputs": [],
      "source": [
        "\n",
        "from pyspark.sql.functions import col\n",
        "from pyspark.sql.types import IntegerType, DoubleType, BooleanType, DateType"
      ]
    },
    {
      "cell_type": "code",
      "execution_count": null,
      "metadata": {
        "application/vnd.databricks.v1+cell": {
          "cellMetadata": {
            "byteLimit": 2048000,
            "rowLimit": 10000
          },
          "inputWidgets": {},
          "nuid": "9adbfab8-f771-42b1-83de-7fb15bcd5831",
          "showTitle": false,
          "title": ""
        },
        "id": "asHOFyQRTD4z"
      },
      "outputs": [],
      "source": [
        "\n",
        "entriesgender = entriesgender.withColumn(\"Female\",col(\"Female\").cast(IntegerType()))\\\n",
        "    .withColumn(\"Male\",col(\"Male\").cast(IntegerType()))\\\n",
        "    .withColumn(\"Total\",col(\"Total\").cast(IntegerType()))\n",
        ""
      ]
    },
    {
      "cell_type": "code",
      "execution_count": null,
      "metadata": {
        "application/vnd.databricks.v1+cell": {
          "cellMetadata": {
            "byteLimit": 2048000,
            "rowLimit": 10000
          },
          "inputWidgets": {},
          "nuid": "ae7e04ca-5a49-4856-9778-5be93844e3c7",
          "showTitle": false,
          "title": ""
        },
        "id": "Ux75IzsxTD40",
        "outputId": "000bfb50-8162-4b3d-b169-ac0e5b23947c"
      },
      "outputs": [
        {
          "output_type": "stream",
          "name": "stdout",
          "text": [
            "root\n |-- Discipline: string (nullable = true)\n |-- Female: integer (nullable = true)\n |-- Male: integer (nullable = true)\n |-- Total: integer (nullable = true)\n\n"
          ]
        }
      ],
      "source": [
        "entriesgender.printSchema()"
      ]
    },
    {
      "cell_type": "code",
      "execution_count": null,
      "metadata": {
        "application/vnd.databricks.v1+cell": {
          "cellMetadata": {
            "byteLimit": 2048000,
            "rowLimit": 10000
          },
          "inputWidgets": {},
          "nuid": "1fdc3c10-2a84-46ee-8af2-29dc3ed43544",
          "showTitle": false,
          "title": ""
        },
        "id": "hUOvbqP-TD40",
        "outputId": "34467a44-755e-437f-92d0-e15d5e985895"
      },
      "outputs": [
        {
          "output_type": "stream",
          "name": "stdout",
          "text": [
            "+----+--------------------+----+------+------+-----+-------------+\n|Rank|        Team_Country|Gold|Silver|Bronze|Total|Rank by Total|\n+----+--------------------+----+------+------+-----+-------------+\n|   1|United States of ...|  39|    41|    33|  113|            1|\n|   2|People's Republic...|  38|    32|    18|   88|            2|\n|   3|               Japan|  27|    14|    17|   58|            5|\n|   4|       Great Britain|  22|    21|    22|   65|            4|\n|   5|                 ROC|  20|    28|    23|   71|            3|\n|   6|           Australia|  17|     7|    22|   46|            6|\n|   7|         Netherlands|  10|    12|    14|   36|            9|\n|   8|              France|  10|    12|    11|   33|           10|\n|   9|             Germany|  10|    11|    16|   37|            8|\n|  10|               Italy|  10|    10|    20|   40|            7|\n|  11|              Canada|   7|     6|    11|   24|           11|\n|  12|              Brazil|   7|     6|     8|   21|           12|\n|  13|         New Zealand|   7|     6|     7|   20|           13|\n|  14|                Cuba|   7|     3|     5|   15|           18|\n|  15|             Hungary|   6|     7|     7|   20|           13|\n|  16|   Republic of Korea|   6|     4|    10|   20|           13|\n|  17|              Poland|   4|     5|     5|   14|           19|\n|  18|      Czech Republic|   4|     4|     3|   11|           23|\n|  19|               Kenya|   4|     4|     2|   10|           25|\n|  20|              Norway|   4|     2|     2|    8|           29|\n+----+--------------------+----+------+------+-----+-------------+\nonly showing top 20 rows\n\n"
          ]
        }
      ],
      "source": [
        "medals.show()\n"
      ]
    },
    {
      "cell_type": "code",
      "execution_count": null,
      "metadata": {
        "application/vnd.databricks.v1+cell": {
          "cellMetadata": {
            "byteLimit": 2048000,
            "rowLimit": 10000
          },
          "inputWidgets": {},
          "nuid": "432d3203-38da-4311-93c1-97a27dd31609",
          "showTitle": false,
          "title": ""
        },
        "id": "bW0sZMOhTD40",
        "outputId": "70f04403-4880-4bda-dba6-23fc95e15830"
      },
      "outputs": [
        {
          "output_type": "stream",
          "name": "stdout",
          "text": [
            "root\n |-- Rank: integer (nullable = true)\n |-- Team_Country: string (nullable = true)\n |-- Gold: integer (nullable = true)\n |-- Silver: integer (nullable = true)\n |-- Bronze: integer (nullable = true)\n |-- Total: integer (nullable = true)\n |-- Rank by Total: integer (nullable = true)\n\n"
          ]
        }
      ],
      "source": [
        "medals.printSchema()\n"
      ]
    },
    {
      "cell_type": "code",
      "execution_count": null,
      "metadata": {
        "application/vnd.databricks.v1+cell": {
          "cellMetadata": {
            "byteLimit": 2048000,
            "rowLimit": 10000
          },
          "inputWidgets": {},
          "nuid": "fcef1c0d-73ab-45dd-bde8-d716ab6850d6",
          "showTitle": false,
          "title": ""
        },
        "id": "uyjwOLSUTD41",
        "outputId": "1888b8e2-34d8-4870-b5e5-ca2dac3a805b"
      },
      "outputs": [
        {
          "output_type": "stream",
          "name": "stdout",
          "text": [
            "+-------------+--------------+--------------------+------------+\n|     TeamName|    Discipline|             Country|       Event|\n+-------------+--------------+--------------------+------------+\n|      Belgium|3x3 Basketball|             Belgium|         Men|\n|        China|3x3 Basketball|People's Republic...|         Men|\n|        China|3x3 Basketball|People's Republic...|       Women|\n|       France|3x3 Basketball|              France|       Women|\n|        Italy|3x3 Basketball|               Italy|       Women|\n|        Japan|3x3 Basketball|               Japan|         Men|\n|        Japan|3x3 Basketball|               Japan|       Women|\n|       Latvia|3x3 Basketball|              Latvia|         Men|\n|     Mongolia|3x3 Basketball|            Mongolia|       Women|\n|  Netherlands|3x3 Basketball|         Netherlands|         Men|\n|       Poland|3x3 Basketball|              Poland|         Men|\n|          ROC|3x3 Basketball|                 ROC|         Men|\n|          ROC|3x3 Basketball|                 ROC|       Women|\n|      Romania|3x3 Basketball|             Romania|       Women|\n|       Serbia|3x3 Basketball|              Serbia|         Men|\n|United States|3x3 Basketball|United States of ...|       Women|\n|    Australia|       Archery|           Australia|  Men's Team|\n|    Australia|       Archery|           Australia|  Mixed Team|\n|   Bangladesh|       Archery|          Bangladesh|  Mixed Team|\n|      Belarus|       Archery|             Belarus|Women's Team|\n+-------------+--------------+--------------------+------------+\nonly showing top 20 rows\n\n"
          ]
        }
      ],
      "source": [
        "teams.show()\n"
      ]
    },
    {
      "cell_type": "code",
      "execution_count": null,
      "metadata": {
        "application/vnd.databricks.v1+cell": {
          "cellMetadata": {
            "byteLimit": 2048000,
            "rowLimit": 10000
          },
          "inputWidgets": {},
          "nuid": "48085c77-fb02-4627-98c9-d4aa40ce96fd",
          "showTitle": false,
          "title": ""
        },
        "id": "MR13boJJTD41",
        "outputId": "5726b458-d02c-473a-bb06-d6e17f5603e7"
      },
      "outputs": [
        {
          "output_type": "stream",
          "name": "stdout",
          "text": [
            "root\n |-- TeamName: string (nullable = true)\n |-- Discipline: string (nullable = true)\n |-- Country: string (nullable = true)\n |-- Event: string (nullable = true)\n\n"
          ]
        }
      ],
      "source": [
        "teams.printSchema()\n"
      ]
    },
    {
      "cell_type": "code",
      "execution_count": null,
      "metadata": {
        "application/vnd.databricks.v1+cell": {
          "cellMetadata": {
            "byteLimit": 2048000,
            "rowLimit": 10000
          },
          "inputWidgets": {},
          "nuid": "2723f6b0-f145-477f-8c45-63d3ef14fb69",
          "showTitle": false,
          "title": ""
        },
        "id": "o0JkT06CTD41",
        "outputId": "142cbccd-c901-40ca-f21e-e142841c7fc3"
      },
      "outputs": [
        {
          "output_type": "stream",
          "name": "stdout",
          "text": [
            "+--------------------+----+\n|        Team_Country|Gold|\n+--------------------+----+\n|United States of ...|  39|\n|People's Republic...|  38|\n|               Japan|  27|\n|       Great Britain|  22|\n|                 ROC|  20|\n|           Australia|  17|\n|         Netherlands|  10|\n|              France|  10|\n|             Germany|  10|\n|               Italy|  10|\n|              Canada|   7|\n|              Brazil|   7|\n|         New Zealand|   7|\n|                Cuba|   7|\n|             Hungary|   6|\n|   Republic of Korea|   6|\n|              Poland|   4|\n|      Czech Republic|   4|\n|               Kenya|   4|\n|              Norway|   4|\n+--------------------+----+\nonly showing top 20 rows\n\n"
          ]
        }
      ],
      "source": [
        "top_gold_medal_countries = medals.orderBy(\"Gold\", ascending=False).select(\"Team_Country\",\"Gold\").show()\n"
      ]
    },
    {
      "cell_type": "code",
      "execution_count": null,
      "metadata": {
        "application/vnd.databricks.v1+cell": {
          "cellMetadata": {
            "byteLimit": 2048000,
            "rowLimit": 10000
          },
          "inputWidgets": {},
          "nuid": "a674f769-5bdc-49db-98bc-e7f52563e9c7",
          "showTitle": false,
          "title": ""
        },
        "id": "FKN_9rf5TD41",
        "outputId": "98c3b4ec-7b9a-4a1e-8eb7-9d3b217ed511"
      },
      "outputs": [
        {
          "output_type": "stream",
          "name": "stdout",
          "text": [
            "+--------------------+------+\n|        Team_Country|Silver|\n+--------------------+------+\n|United States of ...|    41|\n|People's Republic...|    32|\n|                 ROC|    28|\n|       Great Britain|    21|\n|               Japan|    14|\n|         Netherlands|    12|\n|              France|    12|\n|             Germany|    11|\n|               Italy|    10|\n|               Spain|     8|\n|             Hungary|     7|\n|           Australia|     7|\n|              Canada|     6|\n|              Brazil|     6|\n|         New Zealand|     6|\n|              Sweden|     6|\n|             Ukraine|     6|\n|              Poland|     5|\n|             Georgia|     5|\n|            Colombia|     4|\n+--------------------+------+\nonly showing top 20 rows\n\n"
          ]
        }
      ],
      "source": [
        "top_gold_medal_countries = medals.orderBy(\"Silver\", ascending=False).select(\"Team_Country\",\"Silver\").show()\n"
      ]
    },
    {
      "cell_type": "code",
      "execution_count": null,
      "metadata": {
        "application/vnd.databricks.v1+cell": {
          "cellMetadata": {
            "byteLimit": 2048000,
            "rowLimit": 10000
          },
          "inputWidgets": {},
          "nuid": "4c3e7f85-0def-4714-ab7a-12b1e082a6f4",
          "showTitle": false,
          "title": ""
        },
        "id": "7kvChzBGTD42",
        "outputId": "ef0fe423-007a-4a59-8b4e-88212ef5e7e1"
      },
      "outputs": [
        {
          "output_type": "stream",
          "name": "stdout",
          "text": [
            "+--------------------+------+----+-----+-------------------+-------------------+\n|          Discipline|Female|Male|Total|         Avg_Female|           Avg_Male|\n+--------------------+------+----+-----+-------------------+-------------------+\n|      3x3 Basketball|    32|  32|   64|                0.5|                0.5|\n|             Archery|    64|  64|  128|                0.5|                0.5|\n| Artistic Gymnastics|    98|  98|  196|                0.5|                0.5|\n|   Artistic Swimming|   105|   0|  105|                1.0|                0.0|\n|           Athletics|   969|1072| 2041| 0.4747672709456149| 0.5252327290543851|\n|           Badminton|    86|  87|  173|0.49710982658959535| 0.5028901734104047|\n|   Baseball/Softball|    90| 144|  234|0.38461538461538464| 0.6153846153846154|\n|          Basketball|   144| 144|  288|                0.5|                0.5|\n|    Beach Volleyball|    48|  48|   96|                0.5|                0.5|\n|              Boxing|   102| 187|  289|0.35294117647058826| 0.6470588235294118|\n|        Canoe Slalom|    41|  41|   82|                0.5|                0.5|\n|        Canoe Sprint|   123| 126|  249| 0.4939759036144578| 0.5060240963855421|\n|Cycling BMX Frees...|    10|   9|   19| 0.5263157894736842|0.47368421052631576|\n|  Cycling BMX Racing|    24|  24|   48|                0.5|                0.5|\n|Cycling Mountain ...|    38|  38|   76|                0.5|                0.5|\n|        Cycling Road|    70| 131|  201| 0.3482587064676617| 0.6517412935323383|\n|       Cycling Track|    90|  99|  189|0.47619047619047616| 0.5238095238095238|\n|              Diving|    72|  71|  143| 0.5034965034965035| 0.4965034965034965|\n|          Equestrian|    73| 125|  198| 0.3686868686868687| 0.6313131313131313|\n|             Fencing|   107| 108|  215|0.49767441860465117| 0.5023255813953489|\n+--------------------+------+----+-----+-------------------+-------------------+\nonly showing top 20 rows\n\n"
          ]
        }
      ],
      "source": [
        "average_entries_by_gender = entriesgender.withColumn(\n",
        "    'Avg_Female', entriesgender['Female'] / entriesgender['Total']\n",
        ").withColumn(\n",
        "    'Avg_Male', entriesgender['Male'] / entriesgender['Total']\n",
        ")\n",
        "average_entries_by_gender.show()"
      ]
    },
    {
      "cell_type": "code",
      "execution_count": null,
      "metadata": {
        "application/vnd.databricks.v1+cell": {
          "cellMetadata": {
            "byteLimit": 2048000,
            "rowLimit": 10000
          },
          "inputWidgets": {},
          "nuid": "9df5c96d-65a7-4e95-8e17-ccd877a20bb2",
          "showTitle": false,
          "title": ""
        },
        "id": "tQbZy0YSTD42"
      },
      "outputs": [],
      "source": [
        "from pyspark.sql.functions import sum\n"
      ]
    },
    {
      "cell_type": "code",
      "execution_count": null,
      "metadata": {
        "application/vnd.databricks.v1+cell": {
          "cellMetadata": {
            "byteLimit": 2048000,
            "rowLimit": 10000
          },
          "inputWidgets": {},
          "nuid": "9047a7fa-e091-46f5-b9c1-eac3714dd03b",
          "showTitle": false,
          "title": ""
        },
        "id": "Xn5HAbFBTD42",
        "outputId": "c695a9a0-22eb-463b-bba8-1a6a4f7c2083"
      },
      "outputs": [
        {
          "output_type": "stream",
          "name": "stdout",
          "text": [
            "5884"
          ]
        }
      ],
      "source": [
        "total_men = entriesgender.select(sum(\"Male\")).collect()[0][0]\n",
        "display(total_men)"
      ]
    },
    {
      "cell_type": "code",
      "execution_count": null,
      "metadata": {
        "application/vnd.databricks.v1+cell": {
          "cellMetadata": {
            "byteLimit": 2048000,
            "rowLimit": 10000
          },
          "inputWidgets": {},
          "nuid": "21c6b30e-f6db-4948-96b3-2fc15cf7506f",
          "showTitle": false,
          "title": ""
        },
        "id": "RUx6TFRwTD43",
        "outputId": "fbe7492a-ae7b-43ce-86f8-323df08f3658"
      },
      "outputs": [
        {
          "output_type": "stream",
          "name": "stdout",
          "text": [
            "5432"
          ]
        }
      ],
      "source": [
        "total_female = entriesgender.select(sum(\"Female\")).collect()[0][0]\n",
        "display(total_female)"
      ]
    },
    {
      "cell_type": "code",
      "execution_count": null,
      "metadata": {
        "application/vnd.databricks.v1+cell": {
          "cellMetadata": {
            "byteLimit": 2048000,
            "rowLimit": 10000
          },
          "inputWidgets": {},
          "nuid": "6d2543f7-bb8c-4554-94dd-b4db056d3bef",
          "showTitle": false,
          "title": ""
        },
        "id": "YKAWcpOATD43"
      },
      "outputs": [],
      "source": [
        "from pyspark.sql.functions import sum, avg\n"
      ]
    },
    {
      "cell_type": "code",
      "execution_count": null,
      "metadata": {
        "application/vnd.databricks.v1+cell": {
          "cellMetadata": {
            "byteLimit": 2048000,
            "rowLimit": 10000
          },
          "inputWidgets": {},
          "nuid": "aaec6f37-22df-4a05-9f34-8616e8534322",
          "showTitle": false,
          "title": ""
        },
        "id": "PdytMdHfTD43",
        "outputId": "ff2bedc1-68b7-4e0f-f328-48e631cf8fb6"
      },
      "outputs": [
        {
          "output_type": "display_data",
          "data": {
            "text/html": [
              "<style scoped>\n",
              "  .table-result-container {\n",
              "    max-height: 300px;\n",
              "    overflow: auto;\n",
              "  }\n",
              "  table, th, td {\n",
              "    border: 1px solid black;\n",
              "    border-collapse: collapse;\n",
              "  }\n",
              "  th, td {\n",
              "    padding: 5px;\n",
              "  }\n",
              "  th {\n",
              "    text-align: left;\n",
              "  }\n",
              "</style><div class='table-result-container'><table class='table-result'><thead style='background-color: white'><tr><th>Total_Men_Gold</th><th>Avg_Men_Gold</th></tr></thead><tbody><tr><td>340</td><td>3.6559139784946235</td></tr></tbody></table></div>"
            ]
          },
          "metadata": {
            "application/vnd.databricks.v1+output": {
              "addedWidgets": {},
              "aggData": [],
              "aggError": "",
              "aggOverflow": false,
              "aggSchema": [],
              "aggSeriesLimitReached": false,
              "aggType": "",
              "arguments": {},
              "columnCustomDisplayInfos": {},
              "data": [
                [
                  340,
                  3.6559139784946235
                ]
              ],
              "datasetInfos": [],
              "dbfsResultPath": null,
              "isJsonSchema": true,
              "metadata": {},
              "overflow": false,
              "plotOptions": {
                "customPlotOptions": {},
                "displayType": "table",
                "pivotAggregation": null,
                "pivotColumns": null,
                "xColumns": null,
                "yColumns": null
              },
              "removedWidgets": [],
              "schema": [
                {
                  "metadata": "{}",
                  "name": "Total_Men_Gold",
                  "type": "\"long\""
                },
                {
                  "metadata": "{}",
                  "name": "Avg_Men_Gold",
                  "type": "\"double\""
                }
              ],
              "type": "table"
            }
          }
        }
      ],
      "source": [
        "medals_agg = medals.agg(\n",
        "    sum(\"Gold\").alias(\"Total_Men_Gold\"),\n",
        "    avg(\"Gold\").alias(\"Avg_Men_Gold\")\n",
        ")\n",
        "\n",
        "display(medals_agg)"
      ]
    },
    {
      "cell_type": "code",
      "execution_count": null,
      "metadata": {
        "application/vnd.databricks.v1+cell": {
          "cellMetadata": {
            "byteLimit": 2048000,
            "rowLimit": 10000
          },
          "inputWidgets": {},
          "nuid": "027ac866-40c2-46c3-97a6-3535d855512f",
          "showTitle": false,
          "title": ""
        },
        "id": "RwRrJ4LgTD43",
        "outputId": "214a3003-dfc4-45be-bb0c-1144bce0f5d4"
      },
      "outputs": [
        {
          "output_type": "display_data",
          "data": {
            "text/html": [
              "<style scoped>\n",
              "  .table-result-container {\n",
              "    max-height: 300px;\n",
              "    overflow: auto;\n",
              "  }\n",
              "  table, th, td {\n",
              "    border: 1px solid black;\n",
              "    border-collapse: collapse;\n",
              "  }\n",
              "  th, td {\n",
              "    padding: 5px;\n",
              "  }\n",
              "  th {\n",
              "    text-align: left;\n",
              "  }\n",
              "</style><div class='table-result-container'><table class='table-result'><thead style='background-color: white'><tr><th>Total_Female_Gold</th><th>Avg_Female_Gold</th></tr></thead><tbody><tr><td>340</td><td>3.6559139784946235</td></tr></tbody></table></div>"
            ]
          },
          "metadata": {
            "application/vnd.databricks.v1+output": {
              "addedWidgets": {},
              "aggData": [],
              "aggError": "",
              "aggOverflow": false,
              "aggSchema": [],
              "aggSeriesLimitReached": false,
              "aggType": "",
              "arguments": {},
              "columnCustomDisplayInfos": {},
              "data": [
                [
                  340,
                  3.6559139784946235
                ]
              ],
              "datasetInfos": [],
              "dbfsResultPath": null,
              "isJsonSchema": true,
              "metadata": {},
              "overflow": false,
              "plotOptions": {
                "customPlotOptions": {},
                "displayType": "table",
                "pivotAggregation": null,
                "pivotColumns": null,
                "xColumns": null,
                "yColumns": null
              },
              "removedWidgets": [],
              "schema": [
                {
                  "metadata": "{}",
                  "name": "Total_Female_Gold",
                  "type": "\"long\""
                },
                {
                  "metadata": "{}",
                  "name": "Avg_Female_Gold",
                  "type": "\"double\""
                }
              ],
              "type": "table"
            }
          }
        }
      ],
      "source": [
        "medals_agg_female = medals.agg(\n",
        "    sum(\"Gold\").alias(\"Total_Female_Gold\"),\n",
        "    avg(\"Gold\").alias(\"Avg_Female_Gold\")\n",
        ")\n",
        "\n",
        "display(medals_agg_female)"
      ]
    },
    {
      "cell_type": "code",
      "execution_count": null,
      "metadata": {
        "application/vnd.databricks.v1+cell": {
          "cellMetadata": {
            "byteLimit": 2048000,
            "rowLimit": 10000
          },
          "inputWidgets": {},
          "nuid": "41f6116f-b1b5-4f86-ae4f-438ea298c79a",
          "showTitle": false,
          "title": ""
        },
        "id": "1CpBq0VbTD43",
        "outputId": "4b0214bd-c35d-4b30-b88b-89de3edcbf07"
      },
      "outputs": [
        {
          "output_type": "display_data",
          "data": {
            "text/html": [
              "<style scoped>\n",
              "  .table-result-container {\n",
              "    max-height: 300px;\n",
              "    overflow: auto;\n",
              "  }\n",
              "  table, th, td {\n",
              "    border: 1px solid black;\n",
              "    border-collapse: collapse;\n",
              "  }\n",
              "  th, td {\n",
              "    padding: 5px;\n",
              "  }\n",
              "  th {\n",
              "    text-align: left;\n",
              "  }\n",
              "</style><div class='table-result-container'><table class='table-result'><thead style='background-color: white'><tr><th>Team_Country</th><th>Gold</th></tr></thead><tbody><tr><td>United States of America</td><td>39</td></tr><tr><td>People's Republic of China</td><td>38</td></tr><tr><td>Japan</td><td>27</td></tr><tr><td>Great Britain</td><td>22</td></tr><tr><td>ROC</td><td>20</td></tr><tr><td>Australia</td><td>17</td></tr><tr><td>Netherlands</td><td>10</td></tr><tr><td>France</td><td>10</td></tr><tr><td>Germany</td><td>10</td></tr><tr><td>Italy</td><td>10</td></tr><tr><td>Canada</td><td>7</td></tr><tr><td>Brazil</td><td>7</td></tr><tr><td>New Zealand</td><td>7</td></tr><tr><td>Cuba</td><td>7</td></tr><tr><td>Hungary</td><td>6</td></tr><tr><td>Republic of Korea</td><td>6</td></tr><tr><td>Poland</td><td>4</td></tr><tr><td>Czech Republic</td><td>4</td></tr><tr><td>Kenya</td><td>4</td></tr><tr><td>Norway</td><td>4</td></tr><tr><td>Jamaica</td><td>4</td></tr><tr><td>Spain</td><td>3</td></tr><tr><td>Sweden</td><td>3</td></tr><tr><td>Switzerland</td><td>3</td></tr><tr><td>Denmark</td><td>3</td></tr><tr><td>Croatia</td><td>3</td></tr><tr><td>Islamic Republic of Iran</td><td>3</td></tr><tr><td>Serbia</td><td>3</td></tr><tr><td>Belgium</td><td>3</td></tr><tr><td>Bulgaria</td><td>3</td></tr><tr><td>Slovenia</td><td>3</td></tr><tr><td>Uzbekistan</td><td>3</td></tr><tr><td>Georgia</td><td>2</td></tr><tr><td>Chinese Taipei</td><td>2</td></tr><tr><td>Turkey</td><td>2</td></tr><tr><td>Greece</td><td>2</td></tr><tr><td>Uganda</td><td>2</td></tr><tr><td>Ecuador</td><td>2</td></tr><tr><td>Ireland</td><td>2</td></tr><tr><td>Israel</td><td>2</td></tr><tr><td>Qatar</td><td>2</td></tr><tr><td>Bahamas</td><td>2</td></tr><tr><td>Kosovo</td><td>2</td></tr><tr><td>Ukraine</td><td>1</td></tr><tr><td>Belarus</td><td>1</td></tr><tr><td>Romania</td><td>1</td></tr><tr><td>Venezuela</td><td>1</td></tr><tr><td>India</td><td>1</td></tr><tr><td>Hong Kong, China</td><td>1</td></tr><tr><td>Philippines</td><td>1</td></tr><tr><td>Slovakia</td><td>1</td></tr><tr><td>South Africa</td><td>1</td></tr><tr><td>Austria</td><td>1</td></tr><tr><td>Egypt</td><td>1</td></tr><tr><td>Indonesia</td><td>1</td></tr><tr><td>Ethiopia</td><td>1</td></tr><tr><td>Portugal</td><td>1</td></tr><tr><td>Tunisia</td><td>1</td></tr><tr><td>Estonia</td><td>1</td></tr><tr><td>Fiji</td><td>1</td></tr><tr><td>Latvia</td><td>1</td></tr><tr><td>Thailand</td><td>1</td></tr><tr><td>Bermuda</td><td>1</td></tr><tr><td>Morocco</td><td>1</td></tr><tr><td>Puerto Rico</td><td>1</td></tr></tbody></table></div>"
            ]
          },
          "metadata": {
            "application/vnd.databricks.v1+output": {
              "addedWidgets": {},
              "aggData": [],
              "aggError": "",
              "aggOverflow": false,
              "aggSchema": [],
              "aggSeriesLimitReached": false,
              "aggType": "",
              "arguments": {},
              "columnCustomDisplayInfos": {},
              "data": [
                [
                  "United States of America",
                  39
                ],
                [
                  "People's Republic of China",
                  38
                ],
                [
                  "Japan",
                  27
                ],
                [
                  "Great Britain",
                  22
                ],
                [
                  "ROC",
                  20
                ],
                [
                  "Australia",
                  17
                ],
                [
                  "Netherlands",
                  10
                ],
                [
                  "France",
                  10
                ],
                [
                  "Germany",
                  10
                ],
                [
                  "Italy",
                  10
                ],
                [
                  "Canada",
                  7
                ],
                [
                  "Brazil",
                  7
                ],
                [
                  "New Zealand",
                  7
                ],
                [
                  "Cuba",
                  7
                ],
                [
                  "Hungary",
                  6
                ],
                [
                  "Republic of Korea",
                  6
                ],
                [
                  "Poland",
                  4
                ],
                [
                  "Czech Republic",
                  4
                ],
                [
                  "Kenya",
                  4
                ],
                [
                  "Norway",
                  4
                ],
                [
                  "Jamaica",
                  4
                ],
                [
                  "Spain",
                  3
                ],
                [
                  "Sweden",
                  3
                ],
                [
                  "Switzerland",
                  3
                ],
                [
                  "Denmark",
                  3
                ],
                [
                  "Croatia",
                  3
                ],
                [
                  "Islamic Republic of Iran",
                  3
                ],
                [
                  "Serbia",
                  3
                ],
                [
                  "Belgium",
                  3
                ],
                [
                  "Bulgaria",
                  3
                ],
                [
                  "Slovenia",
                  3
                ],
                [
                  "Uzbekistan",
                  3
                ],
                [
                  "Georgia",
                  2
                ],
                [
                  "Chinese Taipei",
                  2
                ],
                [
                  "Turkey",
                  2
                ],
                [
                  "Greece",
                  2
                ],
                [
                  "Uganda",
                  2
                ],
                [
                  "Ecuador",
                  2
                ],
                [
                  "Ireland",
                  2
                ],
                [
                  "Israel",
                  2
                ],
                [
                  "Qatar",
                  2
                ],
                [
                  "Bahamas",
                  2
                ],
                [
                  "Kosovo",
                  2
                ],
                [
                  "Ukraine",
                  1
                ],
                [
                  "Belarus",
                  1
                ],
                [
                  "Romania",
                  1
                ],
                [
                  "Venezuela",
                  1
                ],
                [
                  "India",
                  1
                ],
                [
                  "Hong Kong, China",
                  1
                ],
                [
                  "Philippines",
                  1
                ],
                [
                  "Slovakia",
                  1
                ],
                [
                  "South Africa",
                  1
                ],
                [
                  "Austria",
                  1
                ],
                [
                  "Egypt",
                  1
                ],
                [
                  "Indonesia",
                  1
                ],
                [
                  "Ethiopia",
                  1
                ],
                [
                  "Portugal",
                  1
                ],
                [
                  "Tunisia",
                  1
                ],
                [
                  "Estonia",
                  1
                ],
                [
                  "Fiji",
                  1
                ],
                [
                  "Latvia",
                  1
                ],
                [
                  "Thailand",
                  1
                ],
                [
                  "Bermuda",
                  1
                ],
                [
                  "Morocco",
                  1
                ],
                [
                  "Puerto Rico",
                  1
                ]
              ],
              "datasetInfos": [],
              "dbfsResultPath": null,
              "isJsonSchema": true,
              "metadata": {},
              "overflow": false,
              "plotOptions": {
                "customPlotOptions": {},
                "displayType": "table",
                "pivotAggregation": null,
                "pivotColumns": null,
                "xColumns": null,
                "yColumns": null
              },
              "removedWidgets": [],
              "schema": [
                {
                  "metadata": "{}",
                  "name": "Team_Country",
                  "type": "\"string\""
                },
                {
                  "metadata": "{}",
                  "name": "Gold",
                  "type": "\"integer\""
                }
              ],
              "type": "table"
            }
          }
        }
      ],
      "source": [
        "gold_medals = medals.select(\"Team_Country\", \"Gold\").filter(medals[\"Gold\"] > 0).orderBy(\"Gold\", ascending=False)\n",
        "display(gold_medals)"
      ]
    },
    {
      "cell_type": "code",
      "execution_count": null,
      "metadata": {
        "application/vnd.databricks.v1+cell": {
          "cellMetadata": {
            "byteLimit": 2048000,
            "rowLimit": 10000
          },
          "inputWidgets": {},
          "nuid": "d7dd5faa-849a-46cd-a933-f657ac66af3e",
          "showTitle": false,
          "title": ""
        },
        "id": "iuIPV7FpTD44"
      },
      "outputs": [],
      "source": [
        "athletes.repartition(1).write.mode(\"overwrite\").option(\"header\",'true').csv(\"/mnt/tokyoolymic/transformed-data/athletes\")\n",
        "coaches.repartition(1).write.mode(\"overwrite\").option(\"header\",\"true\").csv(\"/mnt/tokyoolymic/transformed-data/coaches\")\n",
        "entriesgender.repartition(1).write.mode(\"overwrite\").option(\"header\",\"true\").csv(\"/mnt/tokyoolymic/transformed-data/entriesgender\")\n",
        "medals.repartition(1).write.mode(\"overwrite\").option(\"header\",\"true\").csv(\"/mnt/tokyoolymic/transformed-data/medals\")\n",
        "teams.repartition(1).write.mode(\"overwrite\").option(\"header\",\"true\").csv(\"/mnt/tokyoolymic/transformed-data/teams\")\n",
        "\n"
      ]
    }
  ],
  "metadata": {
    "application/vnd.databricks.v1+notebook": {
      "dashboards": [],
      "environmentMetadata": null,
      "language": "python",
      "notebookMetadata": {
        "mostRecentlyExecutedCommandWithImplicitDF": {
          "commandId": 2118943281903226,
          "dataframes": [
            "_sqldf"
          ]
        },
        "pythonIndentUnit": 4
      },
      "notebookName": "Tokyo Olympic Transformation",
      "widgets": {}
    },
    "colab": {
      "provenance": []
    }
  },
  "nbformat": 4,
  "nbformat_minor": 0
}